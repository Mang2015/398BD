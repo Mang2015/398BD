{
 "cells": [
  {
   "cell_type": "markdown",
   "metadata": {
    "deletable": true,
    "editable": true
   },
   "source": [
    "# Lab 3: Classification (Part 2) and Model Selection"
   ]
  },
  {
   "cell_type": "markdown",
   "metadata": {
    "deletable": true,
    "editable": true
   },
   "source": [
    "## Name: Umang Chavan (uchavan2)\n",
    "\n",
    "### Due September 20, 2017 12:00 AM [ This is when Wednesday transitions to Thursday. ]\n",
    "\n",
    "**Logistics and Lab Sumission**\n",
    "\n",
    "See the [course website](https://courses.engr.illinois.edu/ece398bd/logisticsvvv.html). Remember that all labs count equally, despite the labs being graded from a different number of total points)."
   ]
  },
  {
   "cell_type": "markdown",
   "metadata": {
    "deletable": true,
    "editable": true
   },
   "source": [
    "**What You Will Need To Know For This Lab**\n",
    "\n",
    "This lab covers a few more basic classifiers which can be used for M-ary classification:\n",
    "- Naive Bayes\n",
    "- Logistic Regression\n",
    "- Support Vector Machines\n",
    "\n",
    "as well as cross-validation, a tool for model selection and assessment.\n",
    " \n",
    "There are some problems which have short answer questions. Do not write an essay -- a few sentences will suffice.\n",
    "\n",
    "Be clear about your answers. For example, if a question asks you \"Which classifier would you choose?\", be unequivocal about which classifier you would choose (and why); as engineers, part of your job is to make design decisions and justify them in the context of the alternatives and in the application. \n",
    "\n",
    "Remember in many applications, the end goal is not always \"run a classifier\", like in a homework problem, but is to use the output of the classifier in the context of the problem at hand (e.g. detecting spam, identifying cancer, etc.). Because of this, some of our Engineering Design-type questions are designed to get you to think about the entire design problem at a high level.\n",
    "\n",
    "\n",
    "**Warning: Do not train on your test sets. You will automatically have your score halved for a problem if you train on your test data.**"
   ]
  },
  {
   "cell_type": "markdown",
   "metadata": {
    "deletable": true,
    "editable": true
   },
   "source": [
    "**Preamble (don't change this)**"
   ]
  },
  {
   "cell_type": "code",
   "execution_count": 1,
   "metadata": {
    "collapsed": false,
    "deletable": true,
    "editable": true
   },
   "outputs": [
    {
     "name": "stdout",
     "output_type": "stream",
     "text": [
      "Populating the interactive namespace from numpy and matplotlib\n"
     ]
    },
    {
     "name": "stderr",
     "output_type": "stream",
     "text": [
      "/usr/local/lib/python2.7/dist-packages/sklearn/cross_validation.py:41: DeprecationWarning: This module was deprecated in version 0.18 in favor of the model_selection module into which all the refactored classes and functions are moved. Also note that the interface of the new CV iterators are different from that of this module. This module will be removed in 0.20.\n",
      "  \"This module will be removed in 0.20.\", DeprecationWarning)\n"
     ]
    }
   ],
   "source": [
    "from __future__ import division\n",
    "%pylab inline\n",
    "import numpy as np\n",
    "from sklearn import neighbors\n",
    "from sklearn import svm\n",
    "from sklearn import cross_validation\n",
    "from numpy import genfromtxt\n",
    "from sklearn.preprocessing import MinMaxScaler\n",
    "import glob"
   ]
  },
  {
   "cell_type": "markdown",
   "metadata": {
    "deletable": true,
    "editable": true
   },
   "source": [
    "### Problem 1: Spam Detection (70 points)\n",
    "\n",
    "In this problem, you will be constructing a crude spam detector. As you all know, when you receive an e-mail, it can be divided into one of two types: ham (useful mail, label $-1$) and spam (junk mail, label $+1$). In the [olden days](http://www.paulgraham.com/spam.html), people tried writing a bunch of rules to detect spam. However, it was quickly seen that machine learning approaches work fairly well for a little bit of work. \n",
    "\n",
    "You will be designing a spam detector by applying some of the classification techniques you learned in class to a batch of emails used to train and test [SpamAssassin](http://spamassassin.apache.org/), a leading anti-spam software package. \n",
    "\n",
    "Let the *vocabulary* of a dataset be a list of all terms occuring in a data set. So, for example, a vocabulary could be [\"cat\",\"dog\",\"chupacabra\", \"aerospace\", ...]. \n",
    "\n",
    "Our features will be based only the frequencies of terms in our vocabulary occuring in the e-mails (such an approach is called a *bag of words* approach, since we ignore the positions of the terms in the emails). The $j$-th feature is the number of times term $j$ in the vocabulary occurs in the email. If you are interested in further details on this model, you can see Chapters 6 and 13 in [Manning's Book](http://nlp.stanford.edu/IR-book/).\n",
    "\n",
    "You will use the following classifiers in this problem:\n",
    "- sklearn.naive_bayes.BernoulliNB (Naive Bayes Classifier with Bernoulli Model)\n",
    "- sklearn.naive_bayes.MultinomialNB (Naive Bayes Classifier with Multinomial Model)\n",
    "- sklearn.svm.LinearSVC (Linear Support Vector Machine)\n",
    "- sklearn.linear_model.LogisticRegression (Logistic Regression)\n",
    "- sklearn.neighbors.KNeighborsClassifier (1-Nearest Neighbor Classifier)\n",
    "\n",
    "In the context of the Bernoulli Model for Naive Bayes, scikit-learn will binarize the features by interpretting the $j$-th feature to be $1$ if the $j$-th term in the vocabulary occurs in the email and $0$ otherwise. This is a categorical Naive Bayes model, with binary features. While we did not discuss the multinomial model in class, it operates directly on the frequencies of terms in the vocabulary, and is discussed in Section 13.2 in [Manning's Book](http://nlp.stanford.edu/IR-book/) (though you do not need to read this reference). Both the Bernoulli and Multinomial models are commonly used for Naive Bayes in text classification. "
   ]
  },
  {
   "cell_type": "markdown",
   "metadata": {
    "deletable": true,
    "editable": true
   },
   "source": [
    "A sample Ham email is:\n",
    "\n",
    "    From nic@starflung.com  Mon Jun 24 17:06:54 2002\n",
    "    Return-Path: 7910726.0.27May2002215326@mp.opensrs.net\n",
    "    Delivery-Date: Tue May 28 02:53:28 2002\n",
    "    Received: from mp.opensrs.net (mp.opensrs.net [216.40.33.45]) by\n",
    "        dogma.slashnull.org (8.11.6/8.11.6) with ESMTP id g4S1rSe14718 for\n",
    "        <zzz@spamassassin.taint.org>; Tue, 28 May 2002 02:53:28 +0100\n",
    "    Received: (from popensrs@localhost) by mp.opensrs.net (8.9.3/8.9.3) id\n",
    "        VAA04361; Mon, 27 May 2002 21:53:26 -0400\n",
    "    Message-Id: <7910726.0.27May2002215326@mp.opensrs.net>\n",
    "    Date: Mon, 27 May 2002 21:53:26 -0500 (EST)\n",
    "    From: \"Starflung NIC\" <nic@starflung.com>\n",
    "    To: <zzz@spamassassin.taint.org>\n",
    "    Subject: Automated 30 day renewal reminder 2002-05-27\n",
    "    X-Keywords: \n",
    "\n",
    "    The following domains that are registered as belonging\n",
    "    to you are due to expire within the next 60 days. If\n",
    "    you would like to renew them, please contact\n",
    "    nic@starflung.com; otherwise they will be deactivated\n",
    "    and may be registered by another.\n",
    "\n",
    "\n",
    "    Domain Name, Expiry Date\n",
    "    nutmegclothing.com, 2002-06-26\n",
    "    \n",
    "    \n",
    "A sample Spam email is: \n",
    "\n",
    "    From jjj@mymail.dk  Fri Aug 23 11:03:31 2002\n",
    "    Return-Path: <jjj@mymail.dk>\n",
    "    Delivered-To: zzzz@localhost.example.com\n",
    "    Received: from localhost (localhost [127.0.0.1])\n",
    "        by phobos.labs.example.com (Postfix) with ESMTP id 478B54415C\n",
    "        for <zzzz@localhost>; Fri, 23 Aug 2002 06:02:57 -0400 (EDT)\n",
    "    Received: from mail.webnote.net [193.120.211.219]\n",
    "        by localhost with POP3 (fetchmail-5.9.0)\n",
    "        for zzzz@localhost (single-drop); Fri, 23 Aug 2002 11:02:57 +0100 (IST)\n",
    "    Received: from smtp.easydns.com (smtp.easydns.com [205.210.42.30])\n",
    "        by webnote.net (8.9.3/8.9.3) with ESMTP id IAA08912;\n",
    "        Fri, 23 Aug 2002 08:13:36 +0100\n",
    "    From: jjj@mymail.dk\n",
    "    Received: from mymail.dk (unknown [61.97.34.233])\n",
    "        by smtp.easydns.com (Postfix) with SMTP\n",
    "        id 7484A2F85C; Fri, 23 Aug 2002 03:13:31 -0400 (EDT)\n",
    "    Reply-To: <jjj@mymail.dk>\n",
    "    Message-ID: <008c61d64eed$6184e5d5$4bc22de3@udnugg>\n",
    "    To: bbr_hooten@yahoo.com\n",
    "    Subject: HELP WANTED.  WORK FROM HOME REPS.\n",
    "    MiME-Version: 1.0\n",
    "    Content-Type: text/plain;\n",
    "        charset=\"iso-8859-1\"\n",
    "    X-Priority: 3 (Normal)\n",
    "    X-MSMail-Priority: Normal\n",
    "    X-Mailer: Microsoft Outlook, Build 10.0.2616\n",
    "    Importance: Normal\n",
    "    Date: Fri, 23 Aug 2002 03:13:31 -0400 (EDT)\n",
    "    Content-Transfer-Encoding: 8bit\n",
    "\n",
    "    Help wanted.  We are a 14 year old fortune 500 company, that is\n",
    "    growing at a tremendous rate.  We are looking for individuals who\n",
    "    want to work from home.\n",
    "\n",
    "    This is an opportunity to make an excellent income.  No experience\n",
    "    is required.  We will train you.\n",
    "\n",
    "    So if you are looking to be employed from home with a career that has\n",
    "    vast opportunities, then go:\n",
    "\n",
    "    http://www.basetel.com/wealthnow\n",
    "\n",
    "    We are looking for energetic and self motivated people.  If that is you\n",
    "    than click on the link and fill out the form, and one of our\n",
    "    employement specialist will contact you.\n",
    "\n",
    "    To be removed from our link simple go to:\n",
    "\n",
    "    http://www.basetel.com/remove.html\n",
    "\n",
    "\n",
    "    1349lmrd5-948HyhJ3622xXiM0-290VZdq6044fFvN0-799hUsU07l50\n",
    "\n"
   ]
  },
  {
   "cell_type": "markdown",
   "metadata": {
    "deletable": true,
    "editable": true
   },
   "source": [
    "First, we will load the [data](http://spamassassin.apache.org/publiccorpus/readme.html). Our dataset has a bit over 9000 emails, with about 25% of them being spam. We will use 50% of them as a training set, 25% of them as a validation set and 25% of them as a test set. "
   ]
  },
  {
   "cell_type": "code",
   "execution_count": 2,
   "metadata": {
    "collapsed": false,
    "deletable": true,
    "editable": true
   },
   "outputs": [],
   "source": [
    "# Get list of emails\n",
    "spamfiles=glob.glob('./Data/Spam/*')\n",
    "hamfiles=glob.glob('./Data/Ham/*')"
   ]
  },
  {
   "cell_type": "code",
   "execution_count": 3,
   "metadata": {
    "collapsed": false,
    "deletable": true,
    "editable": true
   },
   "outputs": [],
   "source": [
    "# First, we will split the files into the training, validation and test sets.\n",
    "\n",
    "np.random.seed(seed=222017) # seed the RNG for repeatability\n",
    "\n",
    "fnames=np.asarray(spamfiles+hamfiles)\n",
    "nfiles=fnames.size\n",
    "labels=np.ones(nfiles)\n",
    "labels[len(spamfiles):]=-1\n",
    "\n",
    "# Randomly permute the files we have\n",
    "idx=np.random.permutation(nfiles)\n",
    "fnames=fnames[idx]\n",
    "labels=labels[idx]\n",
    "\n",
    "#Split the file names into which set they belong to\n",
    "tname=fnames[:int(nfiles/2)]\n",
    "trainlabels=labels[:int(nfiles/2)]\n",
    "vname=fnames[int(nfiles/2):int(nfiles*3/4)]\n",
    "vallabels=labels[int(nfiles/2):int(nfiles*3/4)]\n",
    "tename=fnames[int(3/4*nfiles):]\n",
    "testlabels=labels[int(3/4*nfiles):]"
   ]
  },
  {
   "cell_type": "code",
   "execution_count": 4,
   "metadata": {
    "collapsed": false,
    "deletable": true,
    "editable": true
   },
   "outputs": [],
   "source": [
    "from sklearn.feature_extraction.text import CountVectorizer\n",
    "\n",
    "# Get our Bag of Words Features from the data\n",
    "bow = CountVectorizer(input='filename',encoding='iso-8859-1',binary=False)\n",
    "traindata=bow.fit_transform(tname)\n",
    "valdata=bow.transform(vname)\n",
    "testdata=bow.transform(tename)"
   ]
  },
  {
   "cell_type": "markdown",
   "metadata": {
    "deletable": true,
    "editable": true
   },
   "source": [
    "The $100$ most and least common terms in the vocabulary are:"
   ]
  },
  {
   "cell_type": "code",
   "execution_count": 5,
   "metadata": {
    "collapsed": false,
    "deletable": true,
    "editable": true
   },
   "outputs": [
    {
     "name": "stdout",
     "output_type": "stream",
     "text": [
      "100 most common terms:  mail,tue,not,have,click,as,ist,thu,wed,jmason,request,or,lists,cnet,are,html,mon,exmh,00,arial,date,12,users,align,message,mailman,freshrpms,text,postfix,ie,type,bgcolor,linux,rpm,version,your,be,taint,22,mailto,color,20,admin,content,table,sourceforge,jm,face,on,nbsp,border,href,aug,127,example,gif,this,10,img,src,subject,09,sep,it,0100,that,height,spamassassin,size,esmtp,is,you,xent,fork,www,tr,in,list,11,br,width,received,localhost,of,id,org,and,by,with,net,for,font,td,http,2002,from,3d,the,to,com \n",
      "\n",
      "100 least common terms:  g7t9rkj15284,gpgkeyothermethod,gpghkpkeyserverurl,gpgdigestmods,gpgdigestalgo,gpgcompressalgo,gpgcomment,gpgciphermods,gpgkeyquerymethod,gpgcipheralgo,gpgcacheids,gpgautoextract,gp1cfwwwprdeb5ycvh3vhe9lysibeuqwq4mgveascl7aayjwf,gowfeo77qp1,gouvernement,gourley,gouging,gpgchoosekey,goufha5xiow78sa4,gpgkeyserver,gpgminmatch,gpsyia6kj47l6de,gpsmccnk3iccrhgaaicffcggqhefxuflonq4r84aknimjf9nldmbbd0iwem,gprbhrob22o,gpr7kqmmt48wbmaea8,gpoulose,gpnspwhpmqycyxv,gpnroiymx3g47,gpgkeyserverurl,gpiqjrskwlpbvgidd3g5sdzw63ynccnzbsjpfurg2x,gpgshowinline,gpgshortmessages,gpgruntwice,gpgrfc822,gpgpubkeymods,gpgpgp5compatibility,gpgmodulepath,gphoto2,gots,gotcha3490,gotcha,goodgirl,good_,gonzato,gonads,gomer,gomdl6x,golub,goodie,golfinace,goldstein,goldmark,goldman,goldie,goldentrickle,goldbach,gokcahisejh58qqgo3r0kmnjyxr0djcdnu1exp7lfcxfxbs1tfh69wu37uemk9hs0gjaw1sb,golfemail,goodroughy,goodtimes9242,goodwill,gosubs,goshen,gormand,gordonrutter,gordon795,gorazde,goran,gor,goq3j54viytdtwi4ru8ceetrdmnzgmpdwbzdtiawkbz27zhe7zw11us8lzcad5p4hyyucw6xaw5a,gopwwafy6,gopnlmj5e5rk8qdnjjcuidl,gopaj,googlewhacking,googlebombing,goofpire,gooey,goodz,gpthy5d2qv6nqokrgdymdbz7ndvvv8vzru4,goh,gpyhrzds7ooczyax7s9plnfk7fpa458x55feoumnf81wz6ncfpyzx8e2jpaxgcqdstjfelnvlryv,gq12303,gratification,grater,grat,graphically,graph_treo,graph_ps2,graph_kds,gratuitement,graph_extigy,granulab,granniesnfatties,grandson,grandpahough,grandiose,grander,gramophone,grapefruit,grame\n"
     ]
    }
   ],
   "source": [
    "counts=np.reshape(np.asarray(np.argsort(traindata.sum(axis=0))),-1)\n",
    "vocab=np.reshape(np.asarray(bow.get_feature_names()),-1)\n",
    "print \"100 most common terms: \" , ','.join(str(s) for s in vocab[counts[-100:]]), \"\\n\"\n",
    "print \"100 least common terms: \" , ','.join(str(s) for s in vocab[counts[:100]])"
   ]
  },
  {
   "cell_type": "markdown",
   "metadata": {
    "collapsed": false,
    "deletable": true,
    "editable": true
   },
   "source": [
    "We will have our training data in `traindata` (with labels in `trainlabels`), validation data in `valdata` (with labels in `vallabels`) and test data in `testdata` (with labels in `testlabels`). The data is stored as a sparse scipy matrix (scipy.sparse.csr.csr_matrix), since we have a decent number of features (~100k), most of which are zero (~0.2% are non-zero), this allows storing the data in a few megabytes. Directly storing it as a numpy array (as we did in lab 1) would take around 8 gigabytes. Working with sparse data can make many algorithms run faster and use less storage. "
   ]
  },
  {
   "cell_type": "markdown",
   "metadata": {
    "deletable": true,
    "editable": true
   },
   "source": [
    "Train each of the following classifiers **( 3 Points Each )**:\n",
    "- sklearn.naive_bayes.BernoulliNB (Naive Bayes Classifier with Bernoulli Model)\n",
    "- sklearn.naive_bayes.MultinomialNB (Naive Bayes Classifier with Multinomial Model)\n",
    "- sklearn.svm.LinearSVC (Linear Support Vector Machine)\n",
    "- sklearn.linear_model.LogisticRegression (Logistic Regression)\n",
    "- sklearn.neighbors.KNeighborsClassifier (as a 1-Nearest Neighbor Classifier)\n",
    "on the training data in `traindata` with corresponding labels `trainlabels`. Use the default parameters, unless otherwise noted.\n",
    "\n",
    "For each classifier, report:\n",
    "- Time it took to fit the classifier (i.e. call the .fit method) **(1 Point Each)**\n",
    "- Training Error **( 1 Point Each)**\n",
    "\n",
    "This part of the problem has a total of **15 points**."
   ]
  },
  {
   "cell_type": "code",
   "execution_count": 6,
   "metadata": {
    "collapsed": false,
    "deletable": true,
    "editable": true
   },
   "outputs": [],
   "source": [
    "from sklearn.naive_bayes import BernoulliNB \n",
    "from sklearn.naive_bayes import MultinomialNB \n",
    "from sklearn.svm import LinearSVC \n",
    "from sklearn.linear_model import LogisticRegression \n",
    "from sklearn.neighbors import KNeighborsClassifier \n",
    "from sklearn.svm import SVC"
   ]
  },
  {
   "cell_type": "code",
   "execution_count": 7,
   "metadata": {
    "collapsed": true
   },
   "outputs": [],
   "source": [
    "def classifierError(truelabels, estimatedlabels):\n",
    "    count=0\n",
    "    for i in range(truelabels.shape[0]):\n",
    "        if truelabels[i] != estimatedlabels[i]:\n",
    "            count += 1\n",
    "    \n",
    "    return count/len(estimatedlabels)\n"
   ]
  },
  {
   "cell_type": "code",
   "execution_count": 8,
   "metadata": {
    "collapsed": false,
    "deletable": true,
    "editable": true
   },
   "outputs": [
    {
     "name": "stdout",
     "output_type": "stream",
     "text": [
      "Runtime to fit Bernoulli:  0.046966\n",
      "Classifier error for Bernoulli:  0.0472828412495\n",
      "Runtime to fit Multinomial:  0.03624\n",
      "Classifier error for Multinomial:  0.0181857081729\n",
      "Runtime to fit Linear SVC:  0.735213\n",
      "Classifier error for Linear SVC:  0.0\n",
      "Runtime to fit Logistic Regression:  0.735213\n",
      "Classifier error for Logistic Regression:  0.0\n",
      "Runtime to fit K Neighbors Classifier (1 neighbor):  0.002851\n",
      "Classifier error for K Neighbors Classifier (1 neighbor):  0.0\n"
     ]
    }
   ],
   "source": [
    "# Put your code here\n",
    "import time\n",
    "#######################################\n",
    "\n",
    "# Bernoulli\n",
    "\n",
    "Bern = BernoulliNB()\n",
    "start_time = time.clock()\n",
    "neighbor = Bern.fit(traindata, trainlabels)\n",
    "t_time = time.clock() - start_time\n",
    "NBtrainlabels = neighbor.predict(traindata)\n",
    "\n",
    "\n",
    "print \"Runtime to fit Bernoulli: \", t_time\n",
    "print \"Classifier error for Bernoulli: \", classifierError(trainlabels, NBtrainlabels)\n",
    "\n",
    "########################################\n",
    "\n",
    "# Multinomial\n",
    "\n",
    "Mult = MultinomialNB()\n",
    "start_time = time.clock()\n",
    "neighbor = Mult.fit(traindata, trainlabels)\n",
    "t_time = time.clock() - start_time\n",
    "MBtrainlabels = neighbor.predict(traindata)\n",
    "\n",
    "print \"Runtime to fit Multinomial: \", t_time\n",
    "print \"Classifier error for Multinomial: \", classifierError(trainlabels, MBtrainlabels)\n",
    "\n",
    "########################################\n",
    "\n",
    "# Linear SVC\n",
    "\n",
    "Lin = LinearSVC()\n",
    "start_time = time.clock()\n",
    "neighbor = Lin.fit(traindata, trainlabels)\n",
    "t_time = time.clock() - start_time\n",
    "SVMtrainlabels = neighbor.predict(traindata)\n",
    "\n",
    "print \"Runtime to fit Linear SVC: \", t_time\n",
    "print \"Classifier error for Linear SVC: \", classifierError(trainlabels, SVMtrainlabels)\n",
    "\n",
    "########################################\n",
    "\n",
    "# Logistic Regression\n",
    "\n",
    "LogR = LogisticRegression()\n",
    "start_time = time.clock()\n",
    "neighbor = LogR.fit(traindata, trainlabels)\n",
    "t_time - time.clock() - start_time\n",
    "LRtrainlabels = neighbor.predict(traindata)\n",
    "\n",
    "print \"Runtime to fit Logistic Regression: \", t_time\n",
    "print \"Classifier error for Logistic Regression: \", classifierError(trainlabels, LRtrainlabels)\n",
    "\n",
    "########################################\n",
    "\n",
    "# K Neighbors Classifier\n",
    "\n",
    "kNN = KNeighborsClassifier(n_neighbors=1)\n",
    "start_time = time.clock()\n",
    "neighbor = kNN.fit(traindata, trainlabels)\n",
    "t_time = time.clock() - start_time\n",
    "NNtrainlabels = neighbor.predict(traindata)\n",
    "\n",
    "print \"Runtime to fit K Neighbors Classifier (1 neighbor): \", t_time\n",
    "print \"Classifier error for K Neighbors Classifier (1 neighbor): \", classifierError(trainlabels,NNtrainlabels)\n",
    "\n",
    "########################################"
   ]
  },
  {
   "cell_type": "markdown",
   "metadata": {
    "deletable": true,
    "editable": true
   },
   "source": [
    "Give a justification as to why the Linear SVM and Logistic regression have their particular value of training error. **(5 points)**"
   ]
  },
  {
   "cell_type": "markdown",
   "metadata": {
    "deletable": true,
    "editable": true
   },
   "source": [
    "This is because both models have linear decision boundaries. Therefore, one part of the data is on one side and the other part of the data is on the other side."
   ]
  },
  {
   "cell_type": "markdown",
   "metadata": {
    "deletable": true,
    "editable": true
   },
   "source": [
    "Run each of the classifiers on the validation data **(2 Points Each)**:\n",
    "- sklearn.naive_bayes.BernoulliNB (Naive Bayes Classifier with Bernoulli Model)\n",
    "- sklearn.naive_bayes.BernoulliNB (Naive Bayes Classifier with Multiomial Model)\n",
    "- sklearn.svm.LinearSVC (Linear Support Vector Machine)\n",
    "- sklearn.linear_model.LogisticRegression (Logistic Regression)\n",
    "- sklearn.neighbors.KNeighborsClassifier (as a 1-Nearest Neighbor Classifier)\n",
    "on the training data in `traindata` with corresponding labels `trainlabels`. Use the default parameters, unless otherwise noted.\n",
    "\n",
    "For each classifier:\n",
    "- Store the labels it predicted as \\_\\_vallabels, where \\_\\_ is NB,MB,SVM,LR,NN respectively. **( 1 Point Each)**\n",
    "- Time it took to run the classifier on the data **(1 Point Each)**\n",
    "- Validation Error **(1 Point Each)**\n",
    "\n",
    "This part of the problem has a total of **15 points**."
   ]
  },
  {
   "cell_type": "code",
   "execution_count": 9,
   "metadata": {
    "collapsed": false,
    "deletable": true,
    "editable": true
   },
   "outputs": [
    {
     "name": "stdout",
     "output_type": "stream",
     "text": [
      "Runtime to fit Bernoulli:  0.029346\n",
      "Classifier error for Bernoulli:  0.0881471972614\n",
      "Runtime to fit Multinomial:  0.021645\n",
      "Classifier error for Multinomial:  0.0295250320924\n",
      "Runtime to fit Linear SVC:  0.693277\n",
      "Classifier error for Linear SVC:  0.00941377834831\n",
      "Runtime to fit Logistic Regression:  0.693277\n",
      "Classifier error for Logistic Regression:  0.00898587933248\n",
      "Runtime to fit K Neighbors Classifier (1 neighbor):  0.002794\n",
      "Classifier error for K Neighbors Classifier (1 neighbor):  0.0166880616175\n"
     ]
    }
   ],
   "source": [
    "# Put your code here\n",
    "import time\n",
    "#######################################\n",
    "\n",
    "# Bernoulli\n",
    "\n",
    "Bern = BernoulliNB()\n",
    "start_time = time.clock()\n",
    "neighbor = Bern.fit(traindata, trainlabels)\n",
    "t_time = time.clock() - start_time\n",
    "NBvallabels = neighbor.predict(valdata)\n",
    "\n",
    "\n",
    "print \"Runtime to fit Bernoulli: \", t_time\n",
    "print \"Classifier error for Bernoulli: \", classifierError(vallabels, NBvallabels)\n",
    "\n",
    "########################################\n",
    "\n",
    "# Multinomial\n",
    "\n",
    "Mult = MultinomialNB()\n",
    "start_time = time.clock()\n",
    "neighbor = Mult.fit(traindata, trainlabels)\n",
    "t_time = time.clock() - start_time\n",
    "MBvallabels = neighbor.predict(valdata)\n",
    "\n",
    "print \"Runtime to fit Multinomial: \", t_time\n",
    "print \"Classifier error for Multinomial: \", classifierError(vallabels, MBvallabels)\n",
    "\n",
    "########################################\n",
    "\n",
    "# Linear SVC\n",
    "\n",
    "Lin = LinearSVC()\n",
    "start_time = time.clock()\n",
    "neighbor = Lin.fit(traindata, trainlabels)\n",
    "t_time = time.clock() - start_time\n",
    "SVMvallabels = neighbor.predict(valdata)\n",
    "\n",
    "print \"Runtime to fit Linear SVC: \", t_time\n",
    "print \"Classifier error for Linear SVC: \", classifierError(vallabels, SVMvallabels)\n",
    "\n",
    "########################################\n",
    "\n",
    "# Logistic Regression\n",
    "\n",
    "LogR = LogisticRegression()\n",
    "start_time = time.clock()\n",
    "neighbor = LogR.fit(traindata, trainlabels)\n",
    "t_time - time.clock() - start_time\n",
    "LRvallabels = neighbor.predict(valdata)\n",
    "\n",
    "print \"Runtime to fit Logistic Regression: \", t_time\n",
    "print \"Classifier error for Logistic Regression: \", classifierError(vallabels, LRvallabels)\n",
    "\n",
    "########################################\n",
    "\n",
    "# K Neighbors Classifier\n",
    "\n",
    "kNN = KNeighborsClassifier(n_neighbors=1)\n",
    "start_time = time.clock()\n",
    "neighbor = kNN.fit(traindata, trainlabels)\n",
    "t_time = time.clock() - start_time\n",
    "NNvallabels = neighbor.predict(valdata)\n",
    "\n",
    "print \"Runtime to fit K Neighbors Classifier (1 neighbor): \", t_time\n",
    "print \"Classifier error for K Neighbors Classifier (1 neighbor): \", classifierError(vallabels,NNvallabels)\n",
    "\n",
    "########################################"
   ]
  },
  {
   "cell_type": "markdown",
   "metadata": {
    "deletable": true,
    "editable": true
   },
   "source": [
    "Let us take a more nuanced look at the type of errors made on a data set. The following function calculates a confusion matrix (Fig. 2.1 in the notes) and some statistics. You may wish to read Section 2.1.1 in the notes -- it may be helpful, but is not necessary to complete this problem."
   ]
  },
  {
   "cell_type": "code",
   "execution_count": 10,
   "metadata": {
    "collapsed": false,
    "deletable": true,
    "editable": true
   },
   "outputs": [],
   "source": [
    "def ConfMatr(truelabels,estimatedlabels,classifiername):\n",
    "    # classifiername is a string, such as 'Naive Bayes (Bernoulli)'\n",
    "    cm=np.zeros((2,2))\n",
    "    cm[0,0]=np.sum(np.logical_and(truelabels==1,estimatedlabels==1)) # True Positives\n",
    "    cm[0,1]=np.sum(np.logical_and(truelabels==-1,estimatedlabels==1)) # False Positive\n",
    "    cm[1,0]=np.sum(np.logical_and(truelabels==1,estimatedlabels==-1)) # False Negative\n",
    "    cm[1,1]=np.sum(np.logical_and(truelabels==-1,estimatedlabels==-1)) # True Negatives\n",
    "    print \"Classifier Name: %s\"% classifiername \n",
    "    print \"True Positives:\", cm[0,0], \"False Positive:\", cm[0,1]\n",
    "    print \"False Negative:\", cm[1,0], \"True Negatives:\", cm[1,1]\n",
    "    print \"True Positive Rate : \", cm[0,0]/np.sum(truelabels==1)\n",
    "    print \"False Positive Rate: \", cm[0,1]/np.sum(truelabels==-1)\n",
    "    print \"---\""
   ]
  },
  {
   "cell_type": "markdown",
   "metadata": {
    "deletable": true,
    "editable": true
   },
   "source": [
    "Run ConfMatr using the validation labels and their estimates for all the classifiers we've used in this problem. **(5 points)**"
   ]
  },
  {
   "cell_type": "code",
   "execution_count": 11,
   "metadata": {
    "collapsed": false,
    "deletable": true,
    "editable": true
   },
   "outputs": [
    {
     "name": "stdout",
     "output_type": "stream",
     "text": [
      "Classifier Name: Naive Bayes (Bernoulli)\n",
      "True Positives: 406.0 False Positive: 10.0\n",
      "False Negative: 196.0 True Negatives: 1725.0\n",
      "True Positive Rate :  0.674418604651\n",
      "False Positive Rate:  0.00576368876081\n",
      "---\n",
      "Classifier Name: Naive Bayes (Multinomial)\n",
      "True Positives: 542.0 False Positive: 9.0\n",
      "False Negative: 60.0 True Negatives: 1726.0\n",
      "True Positive Rate :  0.900332225914\n",
      "False Positive Rate:  0.00518731988473\n",
      "---\n",
      "Classifier Name: Linear Support Vector Machine\n",
      "True Positives: 588.0 False Positive: 8.0\n",
      "False Negative: 14.0 True Negatives: 1727.0\n",
      "True Positive Rate :  0.976744186047\n",
      "False Positive Rate:  0.00461095100865\n",
      "---\n",
      "Classifier Name: Logistic Regression\n",
      "True Positives: 589.0 False Positive: 8.0\n",
      "False Negative: 13.0 True Negatives: 1727.0\n",
      "True Positive Rate :  0.978405315615\n",
      "False Positive Rate:  0.00461095100865\n",
      "---\n",
      "Classifier Name: KNeighborsClassifier\n",
      "True Positives: 580.0 False Positive: 17.0\n",
      "False Negative: 22.0 True Negatives: 1718.0\n",
      "True Positive Rate :  0.963455149502\n",
      "False Positive Rate:  0.00979827089337\n",
      "---\n"
     ]
    }
   ],
   "source": [
    "# Put your code here\n",
    "classifierList = ['Naive Bayes (Bernoulli)', 'Naive Bayes (Multinomial)', 'Linear Support Vector Machine', 'Logistic Regression', 'KNeighborsClassifier']\n",
    "\n",
    "ConfMatr(vallabels, NBvallabels, classifierList[0])\n",
    "ConfMatr(vallabels, MBvallabels, classifierList[1])\n",
    "ConfMatr(vallabels, SVMvallabels, classifierList[2])\n",
    "ConfMatr(vallabels, LRvallabels, classifierList[3])\n",
    "ConfMatr(vallabels, NNvallabels, classifierList[4])\n"
   ]
  },
  {
   "cell_type": "markdown",
   "metadata": {
    "deletable": true,
    "editable": true
   },
   "source": [
    "What does the True Positive Rate mean for this problem? What does the False Positive Rate mean for this problem? Do we want these quantites to be high, low or don't care? Explain using words (no equations!). **(10 point)**"
   ]
  },
  {
   "cell_type": "markdown",
   "metadata": {
    "deletable": true,
    "editable": true
   },
   "source": [
    "In the case of this problem, the True Positive Rate means the percentage of emails classified as Spam that are actually Spam. False Positive Rate for this problem means the percentage of emails classified as Spam that are not actually Spam. We want the True Positive Rate to be high and the False Positive Rate to be low so that we have a pretty accurate classification."
   ]
  },
  {
   "cell_type": "markdown",
   "metadata": {
    "deletable": true,
    "editable": true
   },
   "source": [
    "Based on the results of this problem and knowledge of the application at hand (spam filtering), pick one of the classifiers in this problem and describe how you would use it as part of a spam filter for the University of Illinois email system. \n",
    "\n",
    "Be sure to justify your choice. **(10 points)**\n",
    "\n",
    "For this problem, just sketch out a system design at a very high level -- how you would train the spam filter to deal with new threats, would you filter everyone's email jointly, etc. We're just looking for around a paragraph on how you would come up with a (very rough) engineering design using the results of this problem. You may get some inspiration from the [girls and boys](https://gmail.googleblog.com/2007/10/how-our-spam-filter-works.html) at [Gmail](https://gmail.googleblog.com/2015/07/the-mail-you-want-not-spam-you-dont.html), the [chimps at MailChimp](http://kb.mailchimp.com/delivery/spam-filters/about-spam-filters) or other places. Your answer should also include techniques you could use to improve the performance of the classifier over the baseline provided in this problem (e.g. new features, or whatever)."
   ]
  },
  {
   "cell_type": "markdown",
   "metadata": {
    "deletable": true,
    "editable": true
   },
   "source": [
    "I would choose the Logistic Regression classifier since it has the highest True Positive Rate, giving me the best chance of accurately identifying spam. I think one of the better ways of identifying spam is to continously train the classifier to accept new keywords associated with spam. Along with new keywords, I believe that new features to represent categories would lead to more distinct divisions. This would lead to less variance and flexibility in terms of emails that can be accepted."
   ]
  },
  {
   "cell_type": "markdown",
   "metadata": {
    "deletable": true,
    "editable": true
   },
   "source": [
    "Run the classifier you selected in the previous part of the problem on the test data, and display test error and output of ConfMatr. Comment on the true/false positive rate and error as compared to that on the validation set. **(10 points)**"
   ]
  },
  {
   "cell_type": "code",
   "execution_count": 12,
   "metadata": {
    "collapsed": false,
    "deletable": true,
    "editable": true
   },
   "outputs": [
    {
     "name": "stdout",
     "output_type": "stream",
     "text": [
      "Classifier Name: Logistic Regression on test data \n",
      "True Positives: 620.0 False Positive: 0.0\n",
      "False Negative: 0.0 True Negatives: 1718.0\n",
      "True Positive Rate :  1.0\n",
      "False Positive Rate:  0.0\n",
      "---\n"
     ]
    }
   ],
   "source": [
    "# Put your code here\n",
    "LogR = LogisticRegression()\n",
    "neighbor = LogR.fit(testdata, testlabels)\n",
    "LRtestlabels = neighbor.predict(testdata)\n",
    "\n",
    "ConfMatr(testlabels, LRtestlabels, 'Logistic Regression on test data ')"
   ]
  },
  {
   "cell_type": "markdown",
   "metadata": {
    "deletable": true,
    "editable": true
   },
   "source": [
    "The True Positive Rate is 100%, which means that every single email that was labelled spam was correctly classified as spam in our scenario. This is a better output than that of the validation set, because the True Positive Rate for the validation set did not guarantee that all \"Spam\" emails were correctly classified."
   ]
  },
  {
   "cell_type": "markdown",
   "metadata": {
    "collapsed": true,
    "deletable": true,
    "editable": true
   },
   "source": [
    "### Problem 2: Cross-Validation (50 Points)"
   ]
  },
  {
   "cell_type": "markdown",
   "metadata": {
    "deletable": true,
    "editable": true
   },
   "source": [
    "Write a function which implements $5$-fold cross-validation to estimate the error of a classifier with cross-validation with the 0,1-loss for k-Nearest Neighbors (kNN). \n",
    "\n",
    "You will be given as input:\n",
    "* A (N,d) numpy.ndarray of training data, trainData (with N divisible by 5)\n",
    "* A length $N$ numpy.ndarray of training labels, trainLabels\n",
    "* A number $k$, for which cross-validated error estimates will be outputted for $1,\\ldots,k$\n",
    "\n",
    "Your output will be a vector (represented as a numpy.ndarray) err, such that err[i] is the cross-validated estimate of using i neighbors (err will be of length $k+1$; the zero-th component of the vector will be meaningless). \n",
    "\n",
    "So that this problem is easier to grade, take your folds to be 0:N/5, N/5:2N/5, ..., 4N/5:N for cross-validation (In general, the folds should be randomly divided).\n",
    "\n",
    "Use scikit-learn's sklearn.neighbors.KNeighborsClassifier to perform the training and classification for the kNN models involved. Do not use any other features of scikit-learn, such as things from sklearn.cross_validation. <b>(20 points)</b>"
   ]
  },
  {
   "cell_type": "code",
   "execution_count": 93,
   "metadata": {
    "collapsed": false,
    "deletable": true,
    "editable": true
   },
   "outputs": [],
   "source": [
    "def crossValidationkNN(trainData,trainLabels,k):\n",
    "    #Put your code here\n",
    "    N = trainLabels.shape[0]\n",
    "    \n",
    "    div1 = N//5\n",
    "    div2 = 2*N//5\n",
    "    div3 = 3*N//5\n",
    "    div4 = 4*N//5\n",
    "    \n",
    "    cvDatarr1 = np.array([trainData[div1:div2], trainData[div2:div3], trainData[div3:div4], traindata[div4:N]])\n",
    "    cvDatarr1 = np.reshape(cvDatarr1, (160,2))\n",
    "    cvDatarr2 = np.array([trainData[0:div1], trainData[div2:div3], trainData[div3:div4], trainData[div4:N]])\n",
    "    cvDatarr2 = np.reshape(cvDatarr2, (160,2))\n",
    "    cvDatarr3 = np.array([trainData[0:div1], trainData[div1:div2], trainData[div3:div4], trainData[div4:N]])\n",
    "    cvDatarr3 = np.reshape(cvDatarr3, (160,2))\n",
    "    cvDatarr4 = np.array([trainData[0:div1], trainData[div1:div2], trainData[div2:div3], trainData[div4:N]])\n",
    "    cvDatarr4 = np.reshape(cvDatarr4, (160,2))\n",
    "    cvDatarr5 = np.array([trainData[0:div1], trainData[div1:div2], trainData[div2:div3], trainData[div3:div4]])\n",
    "    cvDatarr5 = np.reshape(cvDatarr5, (160,2))\n",
    "    \n",
    "    combDatarr = np.array([cvDatarr1, cvDatarr2, cvDatarr3, cvDatarr4, cvDatarr5])\n",
    "    \n",
    "    train_data_vec = np.array([trainData[0:div1], trainData[div1:div2], trainData[div2:div3], trainData[div3:div4], trainData[div4:N]])\n",
    "    \n",
    "    cvLabarr1 = np.array([trainLabels[div1:div2], trainLabels[div2:div3], trainLabels[div3:div4], trainLabels[div4:N]])\n",
    "    cvLabarr1 = np.reshape(cvLabarr1, (160,))\n",
    "    cvLabarr2 = np.array([trainLabels[0:div1], trainLabels[div2:div3], trainLabels[div3:div4], trainLabels[div4:N]])\n",
    "    cvLabarr2 = np.reshape(cvLabarr2, (160,))\n",
    "    cvLabarr3 = np.array([trainLabels[0:div1], trainLabels[div1:div2], trainLabels[div3:div4], trainLabels[div4:N]])\n",
    "    cvLabarr3 = np.reshape(cvLabarr3, (160,))\n",
    "    cvLabarr4 = np.array([trainLabels[0:div1], trainLabels[div1:div2], trainLabels[div2:div3], trainLabels[div4:N]])\n",
    "    cvLabarr4 = np.reshape(cvLabarr4, (160,))\n",
    "    cvLabarr5 = np.array([trainLabels[0:div1], trainLabels[div1:div2], trainLabels[div2:div3], trainLabels[div3:div4]])\n",
    "    cvLabarr5 = np.reshape(cvLabarr5, (160,))\n",
    "    \n",
    "    combLabarr = np.array([cvLabarr1, cvLabarr2, cvLabarr3, cvLabarr4, cvLabarr5])\n",
    "    \n",
    "    train_labels_vec = np.array([trainLabels[0:div1], trainLabels[div1:div2], trainLabels[div2:div3], trainLabels[div3:div4], trainLabels[div4:N]])\n",
    "    \n",
    "    \n",
    "    \n",
    "    \n",
    "    error = np.zeros(k+1)\n",
    "\n",
    "    \n",
    "    for i in range(1,k+1):\n",
    "        kNN = KNeighborsClassifier(n_neighbors = i)\n",
    "        errSum = 0\n",
    "        for j in range(5):\n",
    "            kNN_neighbor = kNN.fit(combDatarr[j], combLabarr[j])\n",
    "            estValLabels = kNN_neighbor.predict(train_data_vec[j])\n",
    "            errSum += classifierError(train_labels_vec[j], estValLabels)\n",
    "\n",
    "        tot_err = errSum/5\n",
    "        error[i] = tot_err\n",
    "\n",
    "    \n",
    "    return error\n",
    "        \n",
    "    \n",
    "    \n",
    "    \n",
    "    \n",
    "    "
   ]
  },
  {
   "cell_type": "markdown",
   "metadata": {
    "deletable": true,
    "editable": true
   },
   "source": [
    "Now, we will load some data (acquired from <a href=\"http://www.cs.ubc.ca/~murphyk/\">K.P. Murphy</a>'s <a href=\"https://github.com/probml/pmtk3\"> PMTK tookit</a>)."
   ]
  },
  {
   "cell_type": "code",
   "execution_count": 87,
   "metadata": {
    "collapsed": false,
    "deletable": true,
    "editable": true
   },
   "outputs": [],
   "source": [
    "problem2_tmp= genfromtxt('Data/p2.csv', delimiter=',')\n",
    "\n",
    "# Randomly reorder the data\n",
    "np.random.seed(seed=2217) # seed the RNG for repeatability\n",
    "idx=np.random.permutation(problem2_tmp.shape[0])\n",
    "problem2_tmp=problem2_tmp[idx]\n",
    "\n",
    "#The training data which you will use is called \"traindata\"\n",
    "traindata=problem2_tmp[:200,:2]\n",
    "#The training labels are in \"labels\"\n",
    "trainlabels=problem2_tmp[:200,2]\n",
    "\n",
    "#The test data which you will use is called \"testdata\" with labels \"testlabels\"\n",
    "testdata=problem2_tmp[200:,:2]\n",
    "testlabels=problem2_tmp[200:,2]"
   ]
  },
  {
   "cell_type": "markdown",
   "metadata": {
    "deletable": true,
    "editable": true
   },
   "source": [
    "Plot the cross-validation error versus number of neighbors for $1,\\ldots,30$ neighbors. <b>(10 points)</b>"
   ]
  },
  {
   "cell_type": "code",
   "execution_count": 88,
   "metadata": {
    "collapsed": false,
    "deletable": true,
    "editable": true
   },
   "outputs": [
    {
     "data": {
      "text/plain": [
       "[<matplotlib.lines.Line2D at 0x7fbfd37a26d0>]"
      ]
     },
     "execution_count": 88,
     "metadata": {},
     "output_type": "execute_result"
    },
    {
     "data": {
      "image/png": "[encoded data removed]",
      "text/plain": [
       "<matplotlib.figure.Figure at 0x7fbfd3c2a5d0>"
      ]
     },
     "metadata": {},
     "output_type": "display_data"
    }
   ],
   "source": [
    "# Put your code here\n",
    "import matplotlib.pyplot as plt\n",
    "\n",
    "error=crossValidationkNN(traindata,trainlabels,30)\n",
    "x=np.linspace(1,30,30)\n",
    "plt.xlabel('k-NN')\n",
    "plt.ylabel('error')\n",
    "plt.plot(x,error[1:31])"
   ]
  },
  {
   "cell_type": "markdown",
   "metadata": {
    "deletable": true,
    "editable": true
   },
   "source": [
    "Select the number of neighbors which minimizes the cross-validation error. What is the cross-validation error for this number of neighbors? <b>(10 points)</b>"
   ]
  },
  {
   "cell_type": "code",
   "execution_count": 89,
   "metadata": {
    "collapsed": false,
    "deletable": true,
    "editable": true
   },
   "outputs": [
    {
     "name": "stdout",
     "output_type": "stream",
     "text": [
      "Number of Neighbors the minimizes cross-validation error:  14\n",
      "Cross-validation error for this number of neighbors:  0.175\n"
     ]
    }
   ],
   "source": [
    "# Put your code here\n",
    "minCrossVal = 1\n",
    "neighborVal = 0\n",
    "\n",
    "for i in range(1,31):\n",
    "    error = crossValidationkNN(traindata, trainlabels, i)\n",
    "    for j in range(1,i+1):\n",
    "        if error[j] < minCrossVal:\n",
    "            minCrossVal = error[j]\n",
    "            neighborVal = i\n",
    "\n",
    "print \"Number of Neighbors the minimizes cross-validation error: \", neighborVal\n",
    "print \"Cross-validation error for this number of neighbors: \", minCrossVal\n"
   ]
  },
  {
   "cell_type": "markdown",
   "metadata": {
    "deletable": true,
    "editable": true
   },
   "source": [
    "Number of Neighbors the minimizes cross-validation error:  14\n",
    "\n",
    "Cross-validation error for this number of neighbors:  0.175"
   ]
  },
  {
   "cell_type": "markdown",
   "metadata": {
    "deletable": true,
    "editable": true
   },
   "source": [
    "Train a kNN model on the whole training data using the number of neighbors you found in the previous part of the question, and apply it to the test data. Is it higher or lower than the cross-validation error you found in the last part of the problem? **(10 points)**"
   ]
  },
  {
   "cell_type": "code",
   "execution_count": 90,
   "metadata": {
    "collapsed": false,
    "deletable": true,
    "editable": true
   },
   "outputs": [
    {
     "name": "stdout",
     "output_type": "stream",
     "text": [
      "Classifier error of test data:  0.214\n"
     ]
    }
   ],
   "source": [
    "# Put your code here\n",
    "kNNtest = KNeighborsClassifier(n_neighbors = 14)\n",
    "kNNneighbor = kNNtest.fit(traindata, trainlabels)\n",
    "\n",
    "estTestlabels = kNNneighbor.predict(testdata)\n",
    "\n",
    "print \"Classifier error of test data: \", classifierError(testlabels, estTestlabels)"
   ]
  },
  {
   "cell_type": "markdown",
   "metadata": {
    "deletable": true,
    "editable": true
   },
   "source": [
    "Classifier error of test data:  0.214\n",
    "\n",
    "It is higher than the cross-validation error we found in the previous part of the problem."
   ]
  },
  {
   "cell_type": "markdown",
   "metadata": {
    "deletable": true,
    "editable": true
   },
   "source": [
    "### Problem 3: Detecting Cancer with SVMs and Logistic Regression (45 points)"
   ]
  },
  {
   "cell_type": "markdown",
   "metadata": {
    "deletable": true,
    "editable": true
   },
   "source": [
    "We consider the [Breast Cancer Wisconsin Data Set](https://archive.ics.uci.edu/ml/datasets/Breast+Cancer+Wisconsin+%28Diagnostic%29) from \n",
    "W.N. Street, W.H. Wolberg and O.L. Mangasarian. Nuclear feature extraction for breast tumor diagnosis. IS&T/SPIE 1993 International Symposium on Electronic Imaging: Science and Technology, volume 1905, pages 861-870, San Jose, CA, 1993. \n",
    "\n",
    "The authors diagnosed people by characterizing 3 cell nuclei per person extracted from the breast (pictures [here](http://web.archive.org/web/19970225174429/http://www.cs.wisc.edu/~street/images/)), each with 10 features (for a 30-dimensional feature space):\n",
    "\n",
    "1. radius (mean of distances from center to points on the perimeter) \n",
    "\n",
    "2. texture (standard deviation of gray-scale values) \n",
    "\n",
    "3. perimeter \n",
    "\n",
    "4. area \n",
    "\n",
    "5. smoothness (local variation in radius lengths) \n",
    "\n",
    "6. compactness (perimeter^2 / area - 1.0) \n",
    "\n",
    "7. concavity (severity of concave portions of the contour) \n",
    "\n",
    "8. concave points (number of concave portions of the contour) \n",
    "\n",
    "9. symmetry \n",
    "\n",
    "10. fractal dimension (\"coastline approximation\" - 1)\n",
    "\n",
    "and classified the sample into one of two classes: Malignant ($+1$) or Benign ($-1$). You can read the original paper for more on what these features mean.\n",
    "\n",
    "You will be attempting to classify if a sample is Malignant or Benign using Support Vector Machines, as well as Logistic Regression. Since we don't have all that much data, we will use 10-fold cross-validation to tune our parameters for our SVMs and Logistic Regression. We use 90% of the data for training, and 10% for testing.\n",
    "\n",
    "You will be experimenting with SVMs using Gaussian RBF kernels through sklearn.svm.SVC, linear SVMs through sklearn.svm.LinearSVC, and sklearn.linear_model.LogisticRegression for Logistic Regression. \n",
    "\n",
    "Your model selection will be done with cross-validation via sklearn.cross_validation's cross_val_score. This returns the accuracy for each fold, i.e. the fraction of samples classified correctly. Thus, the cross-validation error is simply 1-mean(cross_val_score)."
   ]
  },
  {
   "cell_type": "markdown",
   "metadata": {
    "deletable": true,
    "editable": true
   },
   "source": [
    "First, we load the data. We will use scikit-learn's train test split function to split the data. The data is scaled for reasons outlined <a href=\"http://www.csie.ntu.edu.tw/~cjlin/papers/guide/guide.pdf\">here</a>. In short, it helps avoid some numerical issues and avoids some problems with certain features which are typically large affecting the SVM optimization problem unfairly compared to features which are typically small. "
   ]
  },
  {
   "cell_type": "code",
   "execution_count": 69,
   "metadata": {
    "collapsed": false,
    "deletable": true,
    "editable": true
   },
   "outputs": [],
   "source": [
    "from sklearn.cross_validation import train_test_split\n",
    "\n",
    "cancer = genfromtxt('Data/wdbc.csv', delimiter=',')\n",
    "\n",
    "np.random.seed(seed=282017) # seed the RNG for repeatability\n",
    "idx=np.random.permutation(cancer.shape[0])\n",
    "cancer=cancer[idx]\n",
    "\n",
    "cancer_features=cancer[:,1:]\n",
    "cancer_labels=cancer[:,0]\n",
    "\n",
    "#The training data is in data_train with labels label_train. \n",
    "# The test data is in data_test with labels label_test.\n",
    "data_train, data_test, label_train, label_test = train_test_split(cancer_features,cancer_labels,test_size=0.1,random_state=292017)\n",
    "\n",
    "# Rescale the training data and scale the test data correspondingly\n",
    "scaler=MinMaxScaler(feature_range=(-1,1))\n",
    "data_train=scaler.fit_transform(data_train) #Note that the scaling is determined solely via the training data!\n",
    "data_test=scaler.transform(data_test)"
   ]
  },
  {
   "cell_type": "markdown",
   "metadata": {
    "deletable": true,
    "editable": true
   },
   "source": [
    "The soft margin linear SVM is tuned based on a parameter $C$, which controls how much points can be violating the margin (this isn't the same $C$ as in the notes, though it serves the same function; see the [scikit-learn documentation](http://scikit-learn.org/stable/modules/svm.html#svc) for details). \n",
    "\n",
    "Use cross-validation to select a value of $C$ for a linear SVM (sklearn.svm.LinearSVC) by varying $C$ from $2^{-5},2^{-4},\\ldots,2^{15}$. \n",
    "\n",
    "Which value of $C$ would you choose, and why? What is the corresponding cross-validation error? <b>(10 points)</b>"
   ]
  },
  {
   "cell_type": "code",
   "execution_count": 71,
   "metadata": {
    "collapsed": false,
    "deletable": true,
    "editable": true
   },
   "outputs": [
    {
     "name": "stdout",
     "output_type": "stream",
     "text": [
      " C value to choose with lowest cross-validation error:  0.125\n",
      "Cross Validation error corresponding to value of C:  0.027149321267\n"
     ]
    }
   ],
   "source": [
    "#Put your code here\n",
    "from sklearn import svm\n",
    "from sklearn import model_selection\n",
    "\n",
    "old_avg = 0\n",
    "C = 0\n",
    "\n",
    "c_matrix = np.zeros((21,0))\n",
    "\n",
    "for i in range (-5,16):\n",
    "    linSVM = svm.LinearSVC(C=(2**i))\n",
    "    linSVM.fit(data_train, label_train)\n",
    "    \n",
    "    c_estimator = model_selection.cross_val_score(linSVM, data_train, label_train, cv=10)\n",
    "    \n",
    "    n_avg = np.average(c_estimator)\n",
    "    \n",
    "    if n_avg > old_avg:\n",
    "        C = i\n",
    "        old_avg = n_avg\n",
    "        c_matrix[i] = n_avg\n",
    "        \n",
    "print \"C value to choose with lowest cross-validation error: \", 2**C\n",
    "print \"Cross Validation error corresponding to value of C: \", 1 - old_avg"
   ]
  },
  {
   "cell_type": "markdown",
   "metadata": {
    "deletable": true,
    "editable": true
   },
   "source": [
    "C value to choose with lowest cross-validation error:  0.125\n",
    "\n",
    "Cross Validation error corresponding to value of C:  0.027149321267"
   ]
  },
  {
   "cell_type": "markdown",
   "metadata": {
    "deletable": true,
    "editable": true
   },
   "source": [
    "You will now experiment with using kernels in an SVM, particularly the Gaussian RBF kernel (in sklearn.svm.SVC). The SVM has two parameters to tune in this case: $C$ (as before), and $\\gamma$, which is a parameter in the RBF. \n",
    "\n",
    "Use cross-validation to select parameters $(C,\\gamma)$ by searching varying $(C,\\gamma)$ over $C=2^{-5},2^{-4},\\ldots,2^{15}$ and $\\gamma=2^{-15},\\ldots,2^{3}$ [So, you will try about 400 parameter choices]. Out of these, which $(C,\\gamma)$ parameters would you choose? What is the corresponding cross-validation error? \n",
    "\n",
    "This procedure is known as a *grid search*.We are using a fairly coarse grid for this problem, but one could use a finer grid once the rough range of good parameters is known (rather than starting with a fine grid, which would waste a lot of time). <b>(10 points)</b>"
   ]
  },
  {
   "cell_type": "code",
   "execution_count": 94,
   "metadata": {
    "collapsed": false,
    "deletable": true,
    "editable": true
   },
   "outputs": [
    {
     "name": "stdout",
     "output_type": "stream",
     "text": [
      "C value to choose with lowest cross-validation error:  8\n",
      "Gamma value to choose with the lowest cross-validation error:  0.125\n",
      "Cross Validation error corresponding to value of C and G:  0.0194570135747\n"
     ]
    }
   ],
   "source": [
    "# Put your code here\n",
    "from sklearn import svm\n",
    "from sklearn import model_selection\n",
    "\n",
    "old_avg = 0\n",
    "C = 0\n",
    "G = 0\n",
    "\n",
    "cg_matrix = np.zeros((21,18))\n",
    "\n",
    "for i in range (-5,16):\n",
    "    for j in range(-15, 4):\n",
    "        \n",
    "        linSVM = svm.SVC(C=(2**i), kernel = 'rbf', gamma = (2**j))\n",
    "        linSVM.fit(data_train, label_train)\n",
    "\n",
    "        c_estimator = model_selection.cross_val_score(linSVM, data_train, label_train, cv=10)\n",
    "\n",
    "        n_avg = np.average(c_estimator)\n",
    "\n",
    "        if n_avg > old_avg:\n",
    "            C = i\n",
    "            old_avg = n_avg\n",
    "            G = j\n",
    "            cg_matrix[i, j] = n_avg\n",
    "\n",
    "print \"C value to choose with lowest cross-validation error: \", 2**C\n",
    "print \"Gamma value to choose with the lowest cross-validation error: \", 2**G\n",
    "print \"Cross Validation error corresponding to value of C and G: \", 1 - old_avg"
   ]
  },
  {
   "cell_type": "markdown",
   "metadata": {
    "deletable": true,
    "editable": true
   },
   "source": [
    "C value to choose with lowest cross-validation error:  8\n",
    "\n",
    "Gamma value to choose with the lowest cross-validation error:  0.125\n",
    "\n",
    "Cross Validation error corresponding to value of C and G:  0.0194570135747"
   ]
  },
  {
   "cell_type": "markdown",
   "metadata": {
    "deletable": true,
    "editable": true
   },
   "source": [
    "As stated in a footnote in the notes, Logistic Regression normally has a regularizer parameter to promote stability. Scikit-learn calls this parameter $C$ (which is like $\\lambda^{-1}$ in the notes); see the [LibLinear](http://www.csie.ntu.edu.tw/~cjlin/papers/liblinear.pdf) documentation for the exact meaning of $C$. \n",
    "\n",
    "Use cross-validation to select a value of $C$ for logistic regression (sklearn.linear_model.LogisticRegression) by varying $C$ from $2^{-14},2^{-4},\\ldots,2^{14}$. You may optionally make use of sklearn.model_selection.GridSearchCV, or write the search by hand (as before). \n",
    "\n",
    "Which value of $C$ would you choose? What is the corresponding cross-validation error? **(5 points)**"
   ]
  },
  {
   "cell_type": "code",
   "execution_count": 97,
   "metadata": {
    "collapsed": false,
    "deletable": true,
    "editable": true
   },
   "outputs": [
    {
     "name": "stdout",
     "output_type": "stream",
     "text": [
      "C value to choose with lowest cross-validation error:  2\n",
      "Cross Validation error corresponding to value of C:  0.027149321267\n"
     ]
    }
   ],
   "source": [
    "#Put your code here\n",
    "from sklearn import linear_model\n",
    "from sklearn import model_selection\n",
    "\n",
    "old_avg = 0\n",
    "C = 0\n",
    "\n",
    "c_matrix = np.zeros((21,0))\n",
    "\n",
    "for i in range (-14,15):\n",
    "    LogR = linear_model.LogisticRegression(C=(2**i))\n",
    "    LogR.fit(data_train, label_train)\n",
    "    \n",
    "    c_estimator = model_selection.cross_val_score(LogR, data_train, label_train, cv=10)\n",
    "    \n",
    "    n_avg = np.average(c_estimator)\n",
    "    \n",
    "    if n_avg > old_avg:\n",
    "        C = i\n",
    "        old_avg = n_avg\n",
    "        c_matrix[i] = n_avg\n",
    "        \n",
    "print \"C value to choose with lowest cross-validation error: \", 2**C\n",
    "print \"Cross Validation error corresponding to value of C: \", 1 - old_avg"
   ]
  },
  {
   "cell_type": "markdown",
   "metadata": {
    "deletable": true,
    "editable": true
   },
   "source": [
    "C value to choose with lowest cross-validation error:  2\n",
    "\n",
    "Cross Validation error corresponding to value of C:  0.027149321267"
   ]
  },
  {
   "cell_type": "markdown",
   "metadata": {
    "deletable": true,
    "editable": true
   },
   "source": [
    "Based on the classifiers you selected thus far for Linear SVM, SVM + Gaussian RBF and Logistic Regression, which classifier would you pick? Make sure to take into account error, the application and computational considerations. **(5 points)**"
   ]
  },
  {
   "cell_type": "markdown",
   "metadata": {
    "deletable": true,
    "editable": true
   },
   "source": [
    "I would choose the SVM + Gaussian RBF classifier. Although it required more parameters (C and gamma), and took a longer time to generate a result, its cross validation error was significantly lower than that of the other classifiers. In the case of cancer detection, it is crucial to get the lowest error possible, and therefore SVM + Gaussian RBF is the best bet."
   ]
  },
  {
   "cell_type": "markdown",
   "metadata": {
    "deletable": true,
    "editable": true
   },
   "source": [
    "Train the classifier selected above on the whole training set. Then, estimate the prediction error using the test set. What is your estimate of the prediction error? How does it compare to the cross-validation error?  <b>(10 points)</b>"
   ]
  },
  {
   "cell_type": "code",
   "execution_count": 98,
   "metadata": {
    "collapsed": false,
    "deletable": true,
    "editable": true
   },
   "outputs": [
    {
     "name": "stdout",
     "output_type": "stream",
     "text": [
      "Test Error:  0.0175438596491\n"
     ]
    }
   ],
   "source": [
    "#Put your code here\n",
    "from sklearn import svm\n",
    "RBFclassifier =svm.SVC(C=(8),kernel='rbf',gamma=0.125)\n",
    "RBFclassifier.fit(data_train,label_train)\n",
    "estimatedValLabels = RBFclassifier.predict(data_test)\n",
    "error = classifierError(label_test,estimatedValLabels)\n",
    "print'Test Error: ',error"
   ]
  },
  {
   "cell_type": "markdown",
   "metadata": {
    "deletable": true,
    "editable": true
   },
   "source": [
    "Estimated prediction error is  0.0175438596491\n",
    "\n",
    "This is lower than the cross-validation error we found."
   ]
  },
  {
   "cell_type": "markdown",
   "metadata": {
    "deletable": true,
    "editable": true
   },
   "source": [
    "Do you think the 0,1-loss is appropriate performance measure to report, in this case? If so, why? If not, how would you measure performance? **(5 points)**"
   ]
  },
  {
   "cell_type": "markdown",
   "metadata": {
    "deletable": true,
    "editable": true
   },
   "source": [
    "0,1 - loss is appropriate because there are only two valid cases in terms of cancer detection. Either the cell nuclei can be malignant or benign; there is no intermediary state. Therefore if there is even one indication that a cell nuclei is malignant, the whole cell nuclei should just be labelled malignant for precautionary measures."
   ]
  },
  {
   "cell_type": "code",
   "execution_count": null,
   "metadata": {
    "collapsed": true
   },
   "outputs": [],
   "source": []
  }
 ],
 "metadata": {
  "anaconda-cloud": {},
  "kernelspec": {
   "display_name": "Python 2",
   "language": "python",
   "name": "python2"
  },
  "language_info": {
   "codemirror_mode": {
    "name": "ipython",
    "version": 2
   },
   "file_extension": ".py",
   "mimetype": "text/x-python",
   "name": "python",
   "nbconvert_exporter": "python",
   "pygments_lexer": "ipython2",
   "version": "2.7.12"
  }
 },
 "nbformat": 4,
 "nbformat_minor": 1
}
