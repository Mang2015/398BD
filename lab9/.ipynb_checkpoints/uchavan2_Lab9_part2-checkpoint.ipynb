{
 "cells": [
  {
   "cell_type": "markdown",
   "metadata": {},
   "source": [
    "In this exercise, you will make use of GenSim, as taught in the class by Tarek. \n",
    "\n",
    "(35 points)\n",
    "\n",
    "To start off, \n",
    "\n",
    "* Please install gensim from [here](https://radimrehurek.com/gensim/) using either easy_install, pip install, or by simply downloading and installing it.\n",
    "* Download the slim version GoogleNews Vectors from [here](https://github.com/eyaler/word2vec-slim/blob/master/GoogleNews-vectors-negative300-SLIM.bin.gz) (The original is larger than 1.5GB, the slim version uses 300k most frequently used words, and is of size about 350MB) to the same folder as this notebook."
   ]
  },
  {
   "cell_type": "code",
   "execution_count": 2,
   "metadata": {
    "collapsed": true
   },
   "outputs": [],
   "source": [
    "import numpy as np\n",
    "from sklearn.manifold import TSNE\n",
    "from matplotlib import pyplot as plt\n",
    "from gensim.models.keyedvectors import KeyedVectors"
   ]
  },
  {
   "cell_type": "markdown",
   "metadata": {
    "collapsed": true
   },
   "source": [
    "#### Load the slim model"
   ]
  },
  {
   "cell_type": "code",
   "execution_count": 3,
   "metadata": {
    "collapsed": true
   },
   "outputs": [],
   "source": [
    "model = KeyedVectors.load_word2vec_format('GoogleNews-vectors-negative300-SLIM.bin', binary=True)"
   ]
  },
  {
   "cell_type": "markdown",
   "metadata": {},
   "source": [
    "#### Ensure that the model is loaded correctly. Check that the vector of the word 'apple' is a vector of numbers:"
   ]
  },
  {
   "cell_type": "code",
   "execution_count": 4,
   "metadata": {},
   "outputs": [
    {
     "name": "stdout",
     "output_type": "stream",
     "text": [
      "[-0.02050914 -0.0509621  -0.00384546  0.04288274 -0.07302497  0.05158359\n",
      "  0.09695229 -0.05717699 -0.03853232  0.08079357]\n"
     ]
    }
   ],
   "source": [
    "print(model.wv['apple'][:10])"
   ]
  },
  {
   "cell_type": "markdown",
   "metadata": {},
   "source": [
    "#### Similar words\n",
    "One can find words similar to a particular word, like below. Here we find the words similar to 'Engineering'.\n"
   ]
  },
  {
   "cell_type": "code",
   "execution_count": 5,
   "metadata": {},
   "outputs": [
    {
     "data": {
      "text/plain": [
       "[(u'engineering', 0.7129400968551636),\n",
       " (u'Engineer', 0.6030308604240417),\n",
       " (u'Geotechnical', 0.6023893356323242),\n",
       " (u'Mechanical', 0.5903823971748352),\n",
       " (u'Design', 0.5756255388259888),\n",
       " (u'Turbomachinery', 0.5722073316574097),\n",
       " (u'Technology', 0.5649499893188477),\n",
       " (u'Technical', 0.5525396466255188),\n",
       " (u'Electrical', 0.5494891405105591),\n",
       " (u'Architecture', 0.5474093556404114)]"
      ]
     },
     "execution_count": 5,
     "metadata": {},
     "output_type": "execute_result"
    }
   ],
   "source": [
    "model.most_similar(positive=['Engineering'])"
   ]
  },
  {
   "cell_type": "markdown",
   "metadata": {},
   "source": [
    "Use code similar to the above to find words similar to your favorite hobby. "
   ]
  },
  {
   "cell_type": "code",
   "execution_count": 6,
   "metadata": {},
   "outputs": [
    {
     "data": {
      "text/plain": [
       "[(u'soccer', 0.7622618675231934),\n",
       " (u'Football', 0.7229189872741699),\n",
       " (u'Lacrosse', 0.7092606425285339),\n",
       " (u'Volleyball', 0.6585472226142883),\n",
       " (u'Basketball', 0.6463674306869507),\n",
       " (u'Softball', 0.6419785022735596),\n",
       " (u'Baseball', 0.6195278167724609),\n",
       " (u'SOCCER', 0.6015186905860901),\n",
       " (u'Tennis', 0.5928696990013123),\n",
       " (u'Hockey', 0.5874346494674683)]"
      ]
     },
     "execution_count": 6,
     "metadata": {},
     "output_type": "execute_result"
    }
   ],
   "source": [
    "# YOUR CODE HERE\n",
    "# (5 points)\n",
    "model.most_similar(positive=['Soccer'])"
   ]
  },
  {
   "cell_type": "markdown",
   "metadata": {
    "collapsed": true
   },
   "source": [
    "Comment on the result. Are the list of words expected? \n",
    "\n",
    "(5 points)"
   ]
  },
  {
   "cell_type": "markdown",
   "metadata": {},
   "source": [
    "Your answer here: Yes these are words in the same category of soccer"
   ]
  },
  {
   "cell_type": "markdown",
   "metadata": {},
   "source": [
    "#### Semantic understanding\n",
    "One of the reasons why word2vec got popular was that it coud capture analogies and semantics in a better way. \n",
    "\n",
    "Classical example of 'king'-'man'+'woman' should give 'queen'. Try it out below."
   ]
  },
  {
   "cell_type": "code",
   "execution_count": null,
   "metadata": {
    "collapsed": true
   },
   "outputs": [],
   "source": [
    "model.most_similar(positive=['woman', 'king'], negative=['man'])"
   ]
  },
  {
   "cell_type": "markdown",
   "metadata": {},
   "source": [
    "Try something similar for 'Gloves'-'Hands'+'Feet' and see what you get.\n",
    "\n",
    "(5 points)"
   ]
  },
  {
   "cell_type": "code",
   "execution_count": 7,
   "metadata": {},
   "outputs": [
    {
     "data": {
      "text/plain": [
       "[(u'Booties', 0.48873183131217957),\n",
       " (u'Shoes', 0.47862643003463745),\n",
       " (u'Insoles', 0.4750664532184601),\n",
       " (u'Drawstring', 0.4389413595199585),\n",
       " (u'gloves', 0.4339154362678528),\n",
       " (u'Pullover', 0.43383991718292236),\n",
       " (u'Outerwear', 0.4327660799026489),\n",
       " (u'Heeled', 0.430480420589447),\n",
       " (u'Wetsuit', 0.4198508858680725),\n",
       " (u'Zippered', 0.4179988503456116)]"
      ]
     },
     "execution_count": 7,
     "metadata": {},
     "output_type": "execute_result"
    }
   ],
   "source": [
    "# Your code here\n",
    "model.most_similar(positive=['Gloves', 'Feet'], negative=['Hands'])"
   ]
  },
  {
   "cell_type": "markdown",
   "metadata": {},
   "source": [
    "Is the result meaningful? Comment. (5 points)"
   ]
  },
  {
   "cell_type": "markdown",
   "metadata": {},
   "source": [
    "Your answer here: Yes as the items that appear are simiar in nature"
   ]
  },
  {
   "cell_type": "markdown",
   "metadata": {},
   "source": [
    "#### Finding the odd one out\n",
    "\n",
    "There is another interesting feature of finding the odd one out in a sequence of words. Try the example below."
   ]
  },
  {
   "cell_type": "code",
   "execution_count": 8,
   "metadata": {},
   "outputs": [
    {
     "data": {
      "text/plain": [
       "'cereal'"
      ]
     },
     "execution_count": 8,
     "metadata": {},
     "output_type": "execute_result"
    }
   ],
   "source": [
    "model.wv.doesnt_match(\"breakfast cereal dinner lunch\".split())"
   ]
  },
  {
   "cell_type": "markdown",
   "metadata": {},
   "source": [
    "Try the same for the list 'Physics Chemistry Biology History', or any other list of 4 words with three similar, and the 4th different."
   ]
  },
  {
   "cell_type": "code",
   "execution_count": 9,
   "metadata": {},
   "outputs": [
    {
     "data": {
      "text/plain": [
       "'History'"
      ]
     },
     "execution_count": 9,
     "metadata": {},
     "output_type": "execute_result"
    }
   ],
   "source": [
    "# Your code here. (5 points)\n",
    "model.wv.doesnt_match(\"Physics Chemistry Biology History\".split())"
   ]
  },
  {
   "cell_type": "markdown",
   "metadata": {},
   "source": [
    "Comment on the results. (5 points)"
   ]
  },
  {
   "cell_type": "markdown",
   "metadata": {},
   "source": [
    "The results look to be correct as it is always selecting the word that does not align with the other words."
   ]
  },
  {
   "cell_type": "markdown",
   "metadata": {},
   "source": [
    "Play around with other words in any of the tasks above. Do you think that the slim version is able to capture the characteristics you saw in the class on Tuesday? \n",
    "\n",
    "(5 points)"
   ]
  },
  {
   "cell_type": "markdown",
   "metadata": {},
   "source": [
    "Your answer here:  \n",
    "\n",
    "No, I don't think that the slim version is able to capture the characteristics we saw in class on Tuesday. It seems to be worse."
   ]
  },
  {
   "cell_type": "code",
   "execution_count": null,
   "metadata": {
    "collapsed": true
   },
   "outputs": [],
   "source": []
  }
 ],
 "metadata": {
  "kernelspec": {
   "display_name": "Python 2",
   "language": "python",
   "name": "python2"
  },
  "language_info": {
   "codemirror_mode": {
    "name": "ipython",
    "version": 2
   },
   "file_extension": ".py",
   "mimetype": "text/x-python",
   "name": "python",
   "nbconvert_exporter": "python",
   "pygments_lexer": "ipython2",
   "version": "2.7.14"
  }
 },
 "nbformat": 4,
 "nbformat_minor": 2
}
